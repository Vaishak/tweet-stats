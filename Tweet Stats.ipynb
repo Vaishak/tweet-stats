{
 "cells": [
  {
   "cell_type": "code",
   "execution_count": 1,
   "id": "7427ef5f",
   "metadata": {
    "scrolled": true
   },
   "outputs": [
    {
     "name": "stderr",
     "output_type": "stream",
     "text": [
      "/Users/vaishak/opt/anaconda3/lib/python3.9/site-packages/scipy/__init__.py:146: UserWarning: A NumPy version >=1.16.5 and <1.23.0 is required for this version of SciPy (detected version 1.23.1\n",
      "  warnings.warn(f\"A NumPy version >={np_minversion} and <{np_maxversion}\"\n"
     ]
    }
   ],
   "source": [
    "import tweepy\n",
    "import numpy as np\n",
    "from datetime import datetime, timedelta"
   ]
  },
  {
   "cell_type": "code",
   "execution_count": null,
   "id": "7c5ef2f8",
   "metadata": {},
   "outputs": [],
   "source": [
    "# Twitter API credentials\n",
    "consumer_key = 'YOUR_CONSUMER_KEY'\n",
    "consumer_secret = 'YOUR_CONSUMER_SECRET'\n",
    "access_token = 'YOUR_ACCESS_TOKEN'\n",
    "access_token_secret = 'YOUR_ACCESS_TOKEN_SECRET'"
   ]
  },
  {
   "cell_type": "code",
   "execution_count": 3,
   "id": "9ee9d52e",
   "metadata": {},
   "outputs": [],
   "source": [
    "# Authenticate with Twitter API\n",
    "auth = tweepy.OAuthHandler(consumer_key, consumer_secret)\n",
    "auth.set_access_token(access_token, access_token_secret)\n",
    "api = tweepy.API(auth)"
   ]
  },
  {
   "cell_type": "code",
   "execution_count": 4,
   "id": "3198f71e",
   "metadata": {},
   "outputs": [],
   "source": [
    "def get_tweet_ids_with_link(link, count=100):\n",
    "    tweet_ids = []\n",
    "\n",
    "    try:\n",
    "        # Perform search query with the custom link\n",
    "        search_results = api.search_tweets(q=link, count=count)\n",
    "\n",
    "        # Collect tweet IDs that contain the link\n",
    "        for tweet in search_results:\n",
    "            tweet_ids.append(tweet.id_str)\n",
    "\n",
    "    except tweepy.TweepError as e:\n",
    "        print(f\"Error: {e.response.text}\")\n",
    "\n",
    "    return tweet_ids"
   ]
  },
  {
   "cell_type": "code",
   "execution_count": 5,
   "id": "e5fcbae4",
   "metadata": {
    "scrolled": true
   },
   "outputs": [
    {
     "name": "stdout",
     "output_type": "stream",
     "text": [
      "Tweet IDs mentioning https://flipsidecrypto.xyz/Deebs-DeFi-I-Orbital-Command-j9fRbz/memecoin-whales-rULYF6:\n",
      "1655761276373700608\n",
      "1655711977585385472\n",
      "1655623717446115328\n",
      "1655600769435938816\n",
      "1655595682537918465\n",
      "1655564876855799809\n",
      "1655541206594768900\n",
      "1655495535908749313\n",
      "1655468053570678788\n",
      "1655439895111036928\n",
      "1655438954748059648\n",
      "1655429978866024448\n",
      "1655413409414893568\n",
      "1655388851614142464\n",
      "1655377479849361408\n",
      "1655369244077588480\n",
      "1655344241680306179\n",
      "1655340904712945665\n",
      "1655336149190332416\n",
      "1655321685594103816\n",
      "1655319644029218816\n",
      "1655316303584870402\n",
      "1655311465342017543\n",
      "1655300375417610240\n",
      "1655296353583652864\n",
      "1655293869997821952\n",
      "1655289899258396673\n",
      "1655288807183327234\n",
      "1655281662991949826\n",
      "1655278673174331395\n",
      "1655278518987620352\n",
      "1655274421827821575\n",
      "1655263163238203392\n",
      "1655262957201137664\n",
      "1655260343592009734\n",
      "1655258201338818561\n",
      "1654114128909459456\n",
      "1654068573202182144\n",
      "1653913706030583811\n",
      "1653779016208220161\n",
      "1653705064442101761\n",
      "1653663374398332928\n",
      "1653629294113968129\n",
      "1653595461607981056\n",
      "1653591961830572032\n",
      "1653589907942813698\n",
      "1653531422039343104\n",
      "1653518308451254273\n",
      "1653483379306766337\n",
      "1653476976718430208\n",
      "1653476302933069824\n"
     ]
    }
   ],
   "source": [
    "# Replace Custom link with the share URL generated. \n",
    "custom_link = 'https://flipsidecrypto.xyz/Deebs-DeFi-I-Orbital-Command-j9fRbz/memecoin-whales-rULYF6'\n",
    "tweet_count = 100\n",
    "\n",
    "tweet_ids = get_tweet_ids_with_link(custom_link, count=tweet_count)\n",
    "\n",
    "if tweet_ids:\n",
    "    print(f\"Tweet IDs mentioning {custom_link}:\")\n",
    "    for tweet_id in tweet_ids:\n",
    "        print(tweet_id)"
   ]
  },
  {
   "cell_type": "code",
   "execution_count": 12,
   "id": "aa20b0c2",
   "metadata": {},
   "outputs": [],
   "source": [
    "def get_tweet_metrics(tweet_id):\n",
    "    try:\n",
    "        # Get tweet details\n",
    "        tweet = api.get_status(tweet_id)\n",
    "\n",
    "        # Get tweet metrics\n",
    "        likes = tweet.favorite_count\n",
    "        retweets = tweet.retweet_count\n",
    "\n",
    "        # Get number of replies\n",
    "        replies = 0\n",
    "        for reply in tweepy.Cursor(api.search, q=f'to:{tweet.user.screen_name}', since_id=tweet.id_str, tweet_mode='extended').items():\n",
    "            if hasattr(reply, 'in_reply_to_status_id_str'):\n",
    "                if reply.in_reply_to_status_id_str == tweet.id_str:\n",
    "                    replies += 1\n",
    "\n",
    "        # Return metrics\n",
    "        return likes, retweets, replies\n",
    "\n",
    "    except tweepy.TweepyError as e:\n",
    "        print(f\"Error: {e.response.text}\")\n",
    "        return None"
   ]
  },
  {
   "cell_type": "code",
   "execution_count": 14,
   "id": "262c3822",
   "metadata": {},
   "outputs": [],
   "source": [
    "def get_likes_for_tweets(tweet_ids):\n",
    "    tweet_likes = []\n",
    "\n",
    "    try:\n",
    "        # Fetch tweet details for each ID\n",
    "        for tweet_id in tweet_ids:\n",
    "            tweet = api.get_status(tweet_id)\n",
    "            likes = tweet.favorite_count\n",
    "            tweet_likes.append((tweet_id, likes))\n",
    "\n",
    "    except tweepy.TweepError as e:\n",
    "        print(f\"Error: {e.response.text}\")\n",
    "\n",
    "    return tweet_likes"
   ]
  },
  {
   "cell_type": "code",
   "execution_count": 15,
   "id": "ad933ac9",
   "metadata": {
    "scrolled": true
   },
   "outputs": [
    {
     "name": "stdout",
     "output_type": "stream",
     "text": [
      "Tweet ID: 1655761276373700608 | Likes: 0\n",
      "Tweet ID: 1655711977585385472 | Likes: 0\n",
      "Tweet ID: 1655623717446115328 | Likes: 0\n",
      "Tweet ID: 1655600769435938816 | Likes: 0\n",
      "Tweet ID: 1655595682537918465 | Likes: 0\n",
      "Tweet ID: 1655564876855799809 | Likes: 0\n",
      "Tweet ID: 1655541206594768900 | Likes: 0\n",
      "Tweet ID: 1655495535908749313 | Likes: 0\n",
      "Tweet ID: 1655468053570678788 | Likes: 0\n",
      "Tweet ID: 1655439895111036928 | Likes: 0\n",
      "Tweet ID: 1655438954748059648 | Likes: 0\n",
      "Tweet ID: 1655429978866024448 | Likes: 0\n",
      "Tweet ID: 1655413409414893568 | Likes: 0\n",
      "Tweet ID: 1655388851614142464 | Likes: 0\n",
      "Tweet ID: 1655377479849361408 | Likes: 0\n",
      "Tweet ID: 1655369244077588480 | Likes: 1\n",
      "Tweet ID: 1655344241680306179 | Likes: 0\n",
      "Tweet ID: 1655340904712945665 | Likes: 0\n",
      "Tweet ID: 1655336149190332416 | Likes: 0\n",
      "Tweet ID: 1655321685594103816 | Likes: 0\n",
      "Tweet ID: 1655319644029218816 | Likes: 0\n",
      "Tweet ID: 1655316303584870402 | Likes: 0\n",
      "Tweet ID: 1655311465342017543 | Likes: 0\n",
      "Tweet ID: 1655300375417610240 | Likes: 0\n",
      "Tweet ID: 1655296353583652864 | Likes: 0\n",
      "Tweet ID: 1655293869997821952 | Likes: 0\n",
      "Tweet ID: 1655289899258396673 | Likes: 0\n",
      "Tweet ID: 1655288807183327234 | Likes: 0\n",
      "Tweet ID: 1655281662991949826 | Likes: 0\n",
      "Tweet ID: 1655278673174331395 | Likes: 0\n",
      "Tweet ID: 1655278518987620352 | Likes: 0\n",
      "Tweet ID: 1655274421827821575 | Likes: 0\n",
      "Tweet ID: 1655263163238203392 | Likes: 0\n",
      "Tweet ID: 1655262957201137664 | Likes: 0\n",
      "Tweet ID: 1655260343592009734 | Likes: 0\n",
      "Tweet ID: 1655258201338818561 | Likes: 148\n",
      "Tweet ID: 1654114128909459456 | Likes: 0\n",
      "Tweet ID: 1654068573202182144 | Likes: 0\n",
      "Tweet ID: 1653913706030583811 | Likes: 0\n",
      "Tweet ID: 1653779016208220161 | Likes: 0\n",
      "Tweet ID: 1653705064442101761 | Likes: 0\n",
      "Tweet ID: 1653663374398332928 | Likes: 0\n",
      "Tweet ID: 1653629294113968129 | Likes: 0\n",
      "Tweet ID: 1653595461607981056 | Likes: 0\n",
      "Tweet ID: 1653591961830572032 | Likes: 0\n",
      "Tweet ID: 1653589907942813698 | Likes: 0\n",
      "Tweet ID: 1653531422039343104 | Likes: 0\n",
      "Tweet ID: 1653518308451254273 | Likes: 0\n",
      "Tweet ID: 1653483379306766337 | Likes: 0\n",
      "Tweet ID: 1653476976718430208 | Likes: 0\n",
      "Tweet ID: 1653476302933069824 | Likes: 88\n"
     ]
    }
   ],
   "source": [
    "likes = get_likes_for_tweets(tweet_ids)\n",
    "\n",
    "if likes:\n",
    "    for tweet_id, like_count in likes:\n",
    "        print(f\"Tweet ID: {tweet_id} | Likes: {like_count}\")\n"
   ]
  },
  {
   "cell_type": "code",
   "execution_count": 16,
   "id": "5b13ccef",
   "metadata": {},
   "outputs": [],
   "source": [
    "# we can add more metrics to this ( Likes , Views , Retweets , Engagement )"
   ]
  }
 ],
 "metadata": {
  "kernelspec": {
   "display_name": "Python 3 (ipykernel)",
   "language": "python",
   "name": "python3"
  },
  "language_info": {
   "codemirror_mode": {
    "name": "ipython",
    "version": 3
   },
   "file_extension": ".py",
   "mimetype": "text/x-python",
   "name": "python",
   "nbconvert_exporter": "python",
   "pygments_lexer": "ipython3",
   "version": "3.9.12"
  }
 },
 "nbformat": 4,
 "nbformat_minor": 5
}
